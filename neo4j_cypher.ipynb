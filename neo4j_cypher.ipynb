{
 "cells": [
  {
   "cell_type": "markdown",
   "id": "0d8ada3c-1452-43cd-bc6e-16d9479888da",
   "metadata": {},
   "source": [
    "https://neo4j.com/docs/python-manual/current/"
   ]
  },
  {
   "cell_type": "markdown",
   "id": "fdbc2312-727e-4534-8ca2-2ea330d5c508",
   "metadata": {},
   "source": [
    "pip install neo4j"
   ]
  },
  {
   "cell_type": "markdown",
   "id": "e8bf92aa-c476-474f-afb3-552afdf657ed",
   "metadata": {},
   "source": [
    "install docker"
   ]
  },
  {
   "cell_type": "markdown",
   "id": "446e4621-ef51-4b61-9a41-4aabb1fca41a",
   "metadata": {},
   "source": [
    "Anaconda Prompt: docker run -p7474:7474 -p7687:7687 -d -e NEO4J_AUTH=neo4j/secretgraph neo4j:latest"
   ]
  },
  {
   "cell_type": "markdown",
   "id": "700143b5-8cce-434e-be41-c7d92debd26c",
   "metadata": {},
   "source": [
    "start Neo4J Desktop --> Neo4j Browser --> type in credentials --> connect"
   ]
  },
  {
   "cell_type": "markdown",
   "id": "38272049-56ee-49f8-a03d-c7e2eae99119",
   "metadata": {},
   "source": [
    "bolt://localhost:7687"
   ]
  },
  {
   "cell_type": "markdown",
   "id": "77411ce4-3f8c-4bf2-b598-8b5ba6f13a92",
   "metadata": {},
   "source": [
    "# Connect to the database"
   ]
  },
  {
   "cell_type": "code",
   "execution_count": 1,
   "id": "3536a06a-2967-4e30-96e4-a3f153cb6c53",
   "metadata": {
    "tags": []
   },
   "outputs": [],
   "source": [
    "from neo4j import GraphDatabase\n",
    "\n",
    "# URI examples: \"neo4j://localhost\", \"neo4j+s://xxx.databases.neo4j.io\"\n",
    "URI = \"neo4j://localhost\"\n",
    "AUTH = (\"neo4j\", \"secretgraph\")\n",
    "\n",
    "with GraphDatabase.driver(URI, auth=AUTH) as driver:\n",
    "    driver.verify_connectivity()"
   ]
  },
  {
   "cell_type": "markdown",
   "id": "d6a78915-e78a-48dc-9e11-0f17421e0c64",
   "metadata": {},
   "source": [
    "# Write to the database"
   ]
  },
  {
   "cell_type": "code",
   "execution_count": 2,
   "id": "5280b451-50ca-407e-9f75-ee646e8ca681",
   "metadata": {
    "tags": []
   },
   "outputs": [
    {
     "name": "stderr",
     "output_type": "stream",
     "text": [
      "C:\\Users\\pell\\AppData\\Local\\Temp\\ipykernel_20196\\2429642574.py:1: DeprecationWarning: Using a driver after it has been closed is deprecated. Future versions of the driver will raise an error.\n",
      "  summary = driver.execute_query(\n"
     ]
    },
    {
     "name": "stdout",
     "output_type": "stream",
     "text": [
      "Created 1 nodes in 690 ms.\n"
     ]
    }
   ],
   "source": [
    "summary = driver.execute_query(\n",
    "    \"CREATE (:Person {name: $name})\",\n",
    "    name=\"Alice\",\n",
    "    database_=\"neo4j\",\n",
    ").summary\n",
    "print(\"Created {nodes_created} nodes in {time} ms.\".format(\n",
    "    nodes_created=summary.counters.nodes_created,\n",
    "    time=summary.result_available_after\n",
    "))"
   ]
  },
  {
   "cell_type": "markdown",
   "id": "e2d743de-030d-4042-b3fc-fb8c43c18888",
   "metadata": {
    "tags": []
   },
   "source": [
    "# Write to the database in Neo4j Browser:\n",
    "\n",
    "CREATE (:Person {name: 'Peter'})"
   ]
  },
  {
   "cell_type": "markdown",
   "id": "f5968d73-69cf-40eb-862a-b224dd0f23fb",
   "metadata": {},
   "source": [
    "# Read from the database"
   ]
  },
  {
   "cell_type": "code",
   "execution_count": 3,
   "id": "5a711531-bb1c-4ca4-9bf2-605a0d811472",
   "metadata": {
    "tags": []
   },
   "outputs": [
    {
     "name": "stdout",
     "output_type": "stream",
     "text": [
      "{'name': 'Alice'}\n",
      "The query `MATCH (p:Person) RETURN p.name AS name` returned 1 records in 155 ms.\n"
     ]
    },
    {
     "name": "stderr",
     "output_type": "stream",
     "text": [
      "C:\\Users\\pell\\AppData\\Local\\Temp\\ipykernel_20196\\3877331262.py:1: DeprecationWarning: Using a driver after it has been closed is deprecated. Future versions of the driver will raise an error.\n",
      "  records, summary, keys = driver.execute_query(\n"
     ]
    }
   ],
   "source": [
    "records, summary, keys = driver.execute_query(\n",
    "    \"MATCH (p:Person) RETURN p.name AS name\",\n",
    "    database_=\"neo4j\",\n",
    ")\n",
    "\n",
    "# Loop through results and do something with them\n",
    "for record in records:\n",
    "    print(record.data())  # obtain record as dict\n",
    "\n",
    "# Summary information\n",
    "print(\"The query `{query}` returned {records_count} records in {time} ms.\".format(\n",
    "    query=summary.query, records_count=len(records),\n",
    "    time=summary.result_available_after\n",
    "))"
   ]
  },
  {
   "cell_type": "markdown",
   "id": "c2920086-50f5-4826-b873-ef338753b02e",
   "metadata": {},
   "source": [
    "# Update the database"
   ]
  },
  {
   "cell_type": "code",
   "execution_count": 4,
   "id": "5aeef6db-fe49-4d79-a529-4612df49afb6",
   "metadata": {
    "tags": []
   },
   "outputs": [
    {
     "name": "stdout",
     "output_type": "stream",
     "text": [
      "Query counters: {'_contains_updates': True, 'properties_set': 1}.\n"
     ]
    },
    {
     "name": "stderr",
     "output_type": "stream",
     "text": [
      "C:\\Users\\pell\\AppData\\Local\\Temp\\ipykernel_20196\\3817737189.py:1: DeprecationWarning: Using a driver after it has been closed is deprecated. Future versions of the driver will raise an error.\n",
      "  records, summary, keys = driver.execute_query(\"\"\"\n"
     ]
    }
   ],
   "source": [
    "records, summary, keys = driver.execute_query(\"\"\"\n",
    "    MATCH (p:Person {name: $name})\n",
    "    SET p.age = $age\n",
    "    \"\"\", name=\"Alice\", age=42,\n",
    "    database_=\"neo4j\",\n",
    ")\n",
    "print(f\"Query counters: {summary.counters}.\")"
   ]
  },
  {
   "cell_type": "code",
   "execution_count": 5,
   "id": "826feb3e-39af-4ea7-9e13-cac700b40fc7",
   "metadata": {
    "tags": []
   },
   "outputs": [
    {
     "name": "stdout",
     "output_type": "stream",
     "text": [
      "Query counters: {}.\n"
     ]
    },
    {
     "name": "stderr",
     "output_type": "stream",
     "text": [
      "C:\\Users\\pell\\AppData\\Local\\Temp\\ipykernel_20196\\2454820279.py:1: DeprecationWarning: Using a driver after it has been closed is deprecated. Future versions of the driver will raise an error.\n",
      "  records, summary, keys = driver.execute_query(\"\"\"\n"
     ]
    }
   ],
   "source": [
    "records, summary, keys = driver.execute_query(\"\"\"\n",
    "    MATCH (alice:Person {name: $name})\n",
    "    MATCH (bob:Person {name: $friend})\n",
    "    CREATE (alice)-[:KNOWS]->(bob)\n",
    "    \"\"\", name=\"Alice\", friend=\"Bob\",\n",
    "    database_=\"neo4j\",\n",
    ")\n",
    "print(f\"Query counters: {summary.counters}.\")"
   ]
  },
  {
   "cell_type": "markdown",
   "id": "1d235bb4-cda3-4c8b-a354-fddfa976656e",
   "metadata": {},
   "source": [
    "# Delete from the database"
   ]
  },
  {
   "cell_type": "code",
   "execution_count": 6,
   "id": "96ad57e7-2588-43ca-9f46-d2e834f6ae6f",
   "metadata": {
    "tags": []
   },
   "outputs": [
    {
     "name": "stdout",
     "output_type": "stream",
     "text": [
      "Query counters: {'_contains_updates': True, 'nodes_deleted': 1}.\n"
     ]
    },
    {
     "name": "stderr",
     "output_type": "stream",
     "text": [
      "C:\\Users\\pell\\AppData\\Local\\Temp\\ipykernel_20196\\3368292491.py:1: DeprecationWarning: Using a driver after it has been closed is deprecated. Future versions of the driver will raise an error.\n",
      "  records, summary, keys = driver.execute_query(\"\"\"\n"
     ]
    }
   ],
   "source": [
    "records, summary, keys = driver.execute_query(\"\"\"\n",
    "    MATCH (p:Person {name: $name})\n",
    "    DETACH DELETE p\n",
    "    \"\"\", name=\"Alice\",\n",
    "    database_=\"neo4j\",\n",
    ")\n",
    "print(f\"Query counters: {summary.counters}.\")"
   ]
  },
  {
   "cell_type": "markdown",
   "id": "08ab0316-43c7-4338-a559-ff466185dea1",
   "metadata": {},
   "source": [
    "# Query parameters"
   ]
  },
  {
   "cell_type": "code",
   "execution_count": 7,
   "id": "7aafb623-8b1d-4430-8805-f4f2e4debe53",
   "metadata": {
    "tags": []
   },
   "outputs": [
    {
     "name": "stderr",
     "output_type": "stream",
     "text": [
      "C:\\Users\\pell\\AppData\\Local\\Temp\\ipykernel_20196\\926086447.py:1: DeprecationWarning: Using a driver after it has been closed is deprecated. Future versions of the driver will raise an error.\n",
      "  driver.execute_query(\n"
     ]
    },
    {
     "data": {
      "text/plain": [
       "EagerResult(records=[], summary=<neo4j._work.summary.ResultSummary object at 0x000001B99BCD2A50>, keys=[])"
      ]
     },
     "execution_count": 7,
     "metadata": {},
     "output_type": "execute_result"
    }
   ],
   "source": [
    "driver.execute_query(\n",
    "    \"MERGE (:Person {name: $name})\",\n",
    "    name=\"Alice\", age=42,\n",
    "    database_=\"neo4j\",\n",
    ")"
   ]
  },
  {
   "cell_type": "code",
   "execution_count": 8,
   "id": "b4766fcc-c0b7-4ac2-876b-a00923aba2b3",
   "metadata": {
    "tags": []
   },
   "outputs": [
    {
     "name": "stderr",
     "output_type": "stream",
     "text": [
      "C:\\Users\\pell\\AppData\\Local\\Temp\\ipykernel_20196\\1909268578.py:5: DeprecationWarning: Using a driver after it has been closed is deprecated. Future versions of the driver will raise an error.\n",
      "  driver.execute_query(\n"
     ]
    },
    {
     "data": {
      "text/plain": [
       "EagerResult(records=[], summary=<neo4j._work.summary.ResultSummary object at 0x000001B99BCD9390>, keys=[])"
      ]
     },
     "execution_count": 8,
     "metadata": {},
     "output_type": "execute_result"
    }
   ],
   "source": [
    "parameters = {\n",
    "    \"name\": \"Alice\",\n",
    "    \"age\": 42\n",
    "}\n",
    "driver.execute_query(\n",
    "    \"MERGE (:Person {name: $name})\",\n",
    "    parameters_=parameters,\n",
    "    database_=\"neo4j\",\n",
    ")"
   ]
  },
  {
   "cell_type": "code",
   "execution_count": null,
   "id": "5ae00762-9cf0-416a-811e-a4fa1f7ecc3c",
   "metadata": {},
   "outputs": [],
   "source": []
  },
  {
   "cell_type": "code",
   "execution_count": null,
   "id": "ef44880c-66f2-451c-b21d-e594c72f7a3b",
   "metadata": {},
   "outputs": [],
   "source": []
  },
  {
   "cell_type": "code",
   "execution_count": null,
   "id": "61e02965-6dae-4fec-aaf5-9546cfc75f16",
   "metadata": {},
   "outputs": [],
   "source": []
  },
  {
   "cell_type": "code",
   "execution_count": null,
   "id": "94247f26-770e-45a9-8b99-c590148a0508",
   "metadata": {},
   "outputs": [],
   "source": []
  },
  {
   "cell_type": "code",
   "execution_count": null,
   "id": "6f7a4483-22d6-4481-9736-7b8c9c5250ff",
   "metadata": {},
   "outputs": [],
   "source": []
  },
  {
   "cell_type": "code",
   "execution_count": null,
   "id": "5d479820-b768-4c00-9e5c-72e778322422",
   "metadata": {},
   "outputs": [],
   "source": []
  },
  {
   "cell_type": "code",
   "execution_count": null,
   "id": "e8603e75-7672-4b88-97b0-871e7b371769",
   "metadata": {},
   "outputs": [],
   "source": []
  }
 ],
 "metadata": {
  "kernelspec": {
   "display_name": "Python 3 (ipykernel)",
   "language": "python",
   "name": "python3"
  },
  "language_info": {
   "codemirror_mode": {
    "name": "ipython",
    "version": 3
   },
   "file_extension": ".py",
   "mimetype": "text/x-python",
   "name": "python",
   "nbconvert_exporter": "python",
   "pygments_lexer": "ipython3",
   "version": "3.11.5"
  }
 },
 "nbformat": 4,
 "nbformat_minor": 5
}
